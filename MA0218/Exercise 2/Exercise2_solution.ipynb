{
 "cells": [
  {
   "cell_type": "markdown",
   "metadata": {},
   "source": [
    "## Exercise 2"
   ]
  },
  {
   "cell_type": "markdown",
   "metadata": {},
   "source": [
    "### Problem 1 : Data Preparation\n",
    "Download the dataset train.csv and the associated text file data_description.txt posted with this Exercise. The dataset  \n",
    "and description are collected from Kaggle. You may also want to download the files directly from the Kaggle Competition  \n",
    "(Login > Go to “Data” > “Download All”). Either way, read the competition description to get an idea about the task.  \n",
    "Source : Kaggle Competition : House Prices : https://www.kaggle.com/c/house-prices-advanced-regression-techniques  \n",
    "\n",
    "    a) Import the “train.csv” data you downloaded (either from NTU Learn or Kaggle) in Jupyter Notebook.  \n",
    "    b) What are the data types (“dtypes”) – int64/float64/object – of the variables (columns) in the dataset?  \n",
    "    c) Extract only the variables (columns) of type Integer (int64), and store as a new Pandas DataFrame.  \n",
    "    d) Open the “data_description.txt” file you downloaded (either from NTU Learn or Kaggle) in Wordpad.  \n",
    "    Read the description for each variable carefully and try to identify the “actual” Numeric variables.  \n",
    "    Categorical variables are often “encoded” as Numeric variables for easy representation. Spot them.  \n",
    "    e) Drop non-Numeric variables from the DataFrame to have a clean DataFrame with Numeric variables.  "
   ]
  },
  {
   "cell_type": "markdown",
   "metadata": {},
   "source": [
    "#### Import all the needed libraries"
   ]
  },
  {
   "cell_type": "code",
   "execution_count": null,
   "metadata": {},
   "outputs": [],
   "source": [
    "import numpy as np\n",
    "import pandas as pd\n",
    "import seaborn as sb\n",
    "import matplotlib.pyplot as plt # we only need pyplot\n",
    "sb.set() # set the default Seaborn style for graphics"
   ]
  },
  {
   "cell_type": "markdown",
   "metadata": {},
   "source": [
    "#### a) Import the “train.csv” data you downloaded (either from NTU Learn or Kaggle) in Jupyter Notebook.  "
   ]
  },
  {
   "cell_type": "code",
   "execution_count": null,
   "metadata": {},
   "outputs": [],
   "source": []
  },
  {
   "cell_type": "markdown",
   "metadata": {},
   "source": [
    "#### b) What are the data types (“dtypes”) – int64/float64/object – of the variables (columns) in the dataset?  "
   ]
  },
  {
   "cell_type": "code",
   "execution_count": null,
   "metadata": {},
   "outputs": [],
   "source": []
  },
  {
   "cell_type": "markdown",
   "metadata": {},
   "source": [
    "#### c) Extract only the variables (columns) of type Integer (int64), and store as a new Pandas DataFrame.  "
   ]
  },
  {
   "cell_type": "code",
   "execution_count": null,
   "metadata": {},
   "outputs": [],
   "source": []
  },
  {
   "cell_type": "markdown",
   "metadata": {},
   "source": [
    "#### d) Open the “data_description.txt” file you downloaded (either from NTU Learn or Kaggle) in Wordpad.\n",
    "####    Read the description for each variable carefully and try to identify the “actual” Numeric variables.\n",
    "####    Categorical variables are often “encoded” as Numeric variables for easy representation. Spot them.  "
   ]
  },
  {
   "cell_type": "code",
   "execution_count": null,
   "metadata": {},
   "outputs": [],
   "source": []
  },
  {
   "cell_type": "markdown",
   "metadata": {},
   "source": [
    "#### "
   ]
  },
  {
   "cell_type": "markdown",
   "metadata": {},
   "source": [
    "#### e) Drop non-Numeric variables from the DataFrame to have a clean DataFrame with Numeric variables.  "
   ]
  },
  {
   "cell_type": "code",
   "execution_count": null,
   "metadata": {},
   "outputs": [],
   "source": []
  },
  {
   "cell_type": "markdown",
   "metadata": {},
   "source": []
  }
 ],
 "metadata": {
  "kernelspec": {
   "display_name": "Python 3.10.2 64-bit",
   "language": "python",
   "name": "python3"
  },
  "language_info": {
   "name": "python",
   "version": "3.10.2"
  },
  "orig_nbformat": 4,
  "vscode": {
   "interpreter": {
    "hash": "e235e4dda8e4152c0a4588a0bc3be5e204941d4eda5d5d5b26588f86a4f08738"
   }
  }
 },
 "nbformat": 4,
 "nbformat_minor": 2
}
